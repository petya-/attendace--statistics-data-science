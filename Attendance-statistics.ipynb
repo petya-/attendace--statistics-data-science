{
 "cells": [
  {
   "cell_type": "code",
   "execution_count": 118,
   "metadata": {},
   "outputs": [],
   "source": [
    "import os\n",
    "import tarfile\n",
    "from six.moves import urllib\n",
    "import pandas as pd\n",
    "import numpy as np\n",
    "%matplotlib inline\n",
    "import matplotlib\n",
    "import matplotlib.pyplot as plt\n",
    "from sklearn.preprocessing import MinMaxScaler\n",
    "from sklearn.cluster import KMeans\n",
    "from pandas import DataFrame\n",
    "\n",
    "ATTENDANCE_PATH = os.path.join(\"datasets\", \"attendance\")\n",
    "\n",
    "def percentage_to_float(x):\n",
    "    if x=='':\n",
    "        return 0\n",
    "    else:\n",
    "        return float(x.strip('%')) / 100.0\n",
    "\n",
    "def load_attendance_data(attendance_path=ATTENDANCE_PATH):\n",
    "    csv_path = os.path.join(attendance_path, \"stud-stat-anonymous.csv\")\n",
    "    return pd.read_csv(csv_path, converters={'Samlet fravær':percentage_to_float, 'Fravær':percentage_to_float, 'Fravær.1':percentage_to_float, 'Fravær.2':percentage_to_float, 'Fravær.3':percentage_to_float})"
   ]
  },
  {
   "cell_type": "code",
   "execution_count": 119,
   "metadata": {},
   "outputs": [
    {
     "data": {
      "text/html": [
       "<div>\n",
       "<style scoped>\n",
       "    .dataframe tbody tr th:only-of-type {\n",
       "        vertical-align: middle;\n",
       "    }\n",
       "\n",
       "    .dataframe tbody tr th {\n",
       "        vertical-align: top;\n",
       "    }\n",
       "\n",
       "    .dataframe thead th {\n",
       "        text-align: right;\n",
       "    }\n",
       "</style>\n",
       "<table border=\"1\" class=\"dataframe\">\n",
       "  <thead>\n",
       "    <tr style=\"text-align: right;\">\n",
       "      <th></th>\n",
       "      <th>Unnamed: 0</th>\n",
       "      <th>Id</th>\n",
       "      <th>Samlet fravær</th>\n",
       "      <th>Klasse</th>\n",
       "      <th>Fag</th>\n",
       "      <th>Fravær</th>\n",
       "      <th>Fag.1</th>\n",
       "      <th>Fravær.1</th>\n",
       "      <th>Fag.2</th>\n",
       "      <th>Fravær.2</th>\n",
       "      <th>Fag.3</th>\n",
       "      <th>Fravær.3</th>\n",
       "    </tr>\n",
       "  </thead>\n",
       "  <tbody>\n",
       "    <tr>\n",
       "      <th>0</th>\n",
       "      <td>0</td>\n",
       "      <td>214366</td>\n",
       "      <td>1.0</td>\n",
       "      <td>Web and Soft Electives</td>\n",
       "      <td>Big Data</td>\n",
       "      <td>1.0</td>\n",
       "      <td>NaN</td>\n",
       "      <td>0.0</td>\n",
       "      <td>NaN</td>\n",
       "      <td>0.0</td>\n",
       "      <td>NaN</td>\n",
       "      <td>0.0</td>\n",
       "    </tr>\n",
       "    <tr>\n",
       "      <th>1</th>\n",
       "      <td>1</td>\n",
       "      <td>680092</td>\n",
       "      <td>1.0</td>\n",
       "      <td>Web and Soft Electives</td>\n",
       "      <td>Angular</td>\n",
       "      <td>1.0</td>\n",
       "      <td>Web Security</td>\n",
       "      <td>1.0</td>\n",
       "      <td>NaN</td>\n",
       "      <td>0.0</td>\n",
       "      <td>NaN</td>\n",
       "      <td>0.0</td>\n",
       "    </tr>\n",
       "    <tr>\n",
       "      <th>2</th>\n",
       "      <td>2</td>\n",
       "      <td>906441</td>\n",
       "      <td>1.0</td>\n",
       "      <td>Web and Soft Electives</td>\n",
       "      <td>Angular</td>\n",
       "      <td>1.0</td>\n",
       "      <td>Web Security</td>\n",
       "      <td>1.0</td>\n",
       "      <td>NaN</td>\n",
       "      <td>0.0</td>\n",
       "      <td>NaN</td>\n",
       "      <td>0.0</td>\n",
       "    </tr>\n",
       "    <tr>\n",
       "      <th>3</th>\n",
       "      <td>3</td>\n",
       "      <td>432875</td>\n",
       "      <td>1.0</td>\n",
       "      <td>Web and Soft Electives</td>\n",
       "      <td>Angular</td>\n",
       "      <td>1.0</td>\n",
       "      <td>Web Security</td>\n",
       "      <td>1.0</td>\n",
       "      <td>NaN</td>\n",
       "      <td>0.0</td>\n",
       "      <td>NaN</td>\n",
       "      <td>0.0</td>\n",
       "    </tr>\n",
       "    <tr>\n",
       "      <th>4</th>\n",
       "      <td>4</td>\n",
       "      <td>146518</td>\n",
       "      <td>1.0</td>\n",
       "      <td>Web and Soft Electives</td>\n",
       "      <td>Angular</td>\n",
       "      <td>1.0</td>\n",
       "      <td>Web Security</td>\n",
       "      <td>1.0</td>\n",
       "      <td>NaN</td>\n",
       "      <td>0.0</td>\n",
       "      <td>NaN</td>\n",
       "      <td>0.0</td>\n",
       "    </tr>\n",
       "  </tbody>\n",
       "</table>\n",
       "</div>"
      ],
      "text/plain": [
       "   Unnamed: 0      Id  Samlet fravær                  Klasse       Fag  \\\n",
       "0           0  214366            1.0  Web and Soft Electives  Big Data   \n",
       "1           1  680092            1.0  Web and Soft Electives   Angular   \n",
       "2           2  906441            1.0  Web and Soft Electives   Angular   \n",
       "3           3  432875            1.0  Web and Soft Electives   Angular   \n",
       "4           4  146518            1.0  Web and Soft Electives   Angular   \n",
       "\n",
       "   Fravær         Fag.1  Fravær.1 Fag.2  Fravær.2 Fag.3  Fravær.3  \n",
       "0     1.0           NaN       0.0   NaN       0.0   NaN       0.0  \n",
       "1     1.0  Web Security       1.0   NaN       0.0   NaN       0.0  \n",
       "2     1.0  Web Security       1.0   NaN       0.0   NaN       0.0  \n",
       "3     1.0  Web Security       1.0   NaN       0.0   NaN       0.0  \n",
       "4     1.0  Web Security       1.0   NaN       0.0   NaN       0.0  "
      ]
     },
     "execution_count": 119,
     "metadata": {},
     "output_type": "execute_result"
    }
   ],
   "source": [
    "attendance = load_attendance_data()\n",
    "attendance.head()"
   ]
  },
  {
   "cell_type": "code",
   "execution_count": 120,
   "metadata": {
    "scrolled": true
   },
   "outputs": [
    {
     "data": {
      "text/html": [
       "<div>\n",
       "<style scoped>\n",
       "    .dataframe tbody tr th:only-of-type {\n",
       "        vertical-align: middle;\n",
       "    }\n",
       "\n",
       "    .dataframe tbody tr th {\n",
       "        vertical-align: top;\n",
       "    }\n",
       "\n",
       "    .dataframe thead th {\n",
       "        text-align: right;\n",
       "    }\n",
       "</style>\n",
       "<table border=\"1\" class=\"dataframe\">\n",
       "  <thead>\n",
       "    <tr style=\"text-align: right;\">\n",
       "      <th></th>\n",
       "      <th>Id</th>\n",
       "      <th>Samlet fravær</th>\n",
       "      <th>Klasse</th>\n",
       "      <th>Fag</th>\n",
       "      <th>Fravær</th>\n",
       "      <th>Fag.1</th>\n",
       "      <th>Fravær.1</th>\n",
       "      <th>Fag.2</th>\n",
       "      <th>Fravær.2</th>\n",
       "      <th>Fag.3</th>\n",
       "      <th>Fravær.3</th>\n",
       "    </tr>\n",
       "  </thead>\n",
       "  <tbody>\n",
       "    <tr>\n",
       "      <th>0</th>\n",
       "      <td>214366</td>\n",
       "      <td>1.0</td>\n",
       "      <td>Web and Soft Electives</td>\n",
       "      <td>Big Data</td>\n",
       "      <td>1.0</td>\n",
       "      <td>NaN</td>\n",
       "      <td>0.0</td>\n",
       "      <td>NaN</td>\n",
       "      <td>0.0</td>\n",
       "      <td>NaN</td>\n",
       "      <td>0.0</td>\n",
       "    </tr>\n",
       "    <tr>\n",
       "      <th>1</th>\n",
       "      <td>680092</td>\n",
       "      <td>1.0</td>\n",
       "      <td>Web and Soft Electives</td>\n",
       "      <td>Angular</td>\n",
       "      <td>1.0</td>\n",
       "      <td>Web Security</td>\n",
       "      <td>1.0</td>\n",
       "      <td>NaN</td>\n",
       "      <td>0.0</td>\n",
       "      <td>NaN</td>\n",
       "      <td>0.0</td>\n",
       "    </tr>\n",
       "    <tr>\n",
       "      <th>2</th>\n",
       "      <td>906441</td>\n",
       "      <td>1.0</td>\n",
       "      <td>Web and Soft Electives</td>\n",
       "      <td>Angular</td>\n",
       "      <td>1.0</td>\n",
       "      <td>Web Security</td>\n",
       "      <td>1.0</td>\n",
       "      <td>NaN</td>\n",
       "      <td>0.0</td>\n",
       "      <td>NaN</td>\n",
       "      <td>0.0</td>\n",
       "    </tr>\n",
       "    <tr>\n",
       "      <th>3</th>\n",
       "      <td>432875</td>\n",
       "      <td>1.0</td>\n",
       "      <td>Web and Soft Electives</td>\n",
       "      <td>Angular</td>\n",
       "      <td>1.0</td>\n",
       "      <td>Web Security</td>\n",
       "      <td>1.0</td>\n",
       "      <td>NaN</td>\n",
       "      <td>0.0</td>\n",
       "      <td>NaN</td>\n",
       "      <td>0.0</td>\n",
       "    </tr>\n",
       "    <tr>\n",
       "      <th>4</th>\n",
       "      <td>146518</td>\n",
       "      <td>1.0</td>\n",
       "      <td>Web and Soft Electives</td>\n",
       "      <td>Angular</td>\n",
       "      <td>1.0</td>\n",
       "      <td>Web Security</td>\n",
       "      <td>1.0</td>\n",
       "      <td>NaN</td>\n",
       "      <td>0.0</td>\n",
       "      <td>NaN</td>\n",
       "      <td>0.0</td>\n",
       "    </tr>\n",
       "  </tbody>\n",
       "</table>\n",
       "</div>"
      ],
      "text/plain": [
       "       Id  Samlet fravær                  Klasse       Fag  Fravær  \\\n",
       "0  214366            1.0  Web and Soft Electives  Big Data     1.0   \n",
       "1  680092            1.0  Web and Soft Electives   Angular     1.0   \n",
       "2  906441            1.0  Web and Soft Electives   Angular     1.0   \n",
       "3  432875            1.0  Web and Soft Electives   Angular     1.0   \n",
       "4  146518            1.0  Web and Soft Electives   Angular     1.0   \n",
       "\n",
       "          Fag.1  Fravær.1 Fag.2  Fravær.2 Fag.3  Fravær.3  \n",
       "0           NaN       0.0   NaN       0.0   NaN       0.0  \n",
       "1  Web Security       1.0   NaN       0.0   NaN       0.0  \n",
       "2  Web Security       1.0   NaN       0.0   NaN       0.0  \n",
       "3  Web Security       1.0   NaN       0.0   NaN       0.0  \n",
       "4  Web Security       1.0   NaN       0.0   NaN       0.0  "
      ]
     },
     "execution_count": 120,
     "metadata": {},
     "output_type": "execute_result"
    }
   ],
   "source": [
    "attendance = attendance.drop(['Unnamed: 0'], axis=1)\n",
    "attendance.head()"
   ]
  },
  {
   "cell_type": "code",
   "execution_count": 121,
   "metadata": {},
   "outputs": [
    {
     "data": {
      "text/html": [
       "<div>\n",
       "<style scoped>\n",
       "    .dataframe tbody tr th:only-of-type {\n",
       "        vertical-align: middle;\n",
       "    }\n",
       "\n",
       "    .dataframe tbody tr th {\n",
       "        vertical-align: top;\n",
       "    }\n",
       "\n",
       "    .dataframe thead th {\n",
       "        text-align: right;\n",
       "    }\n",
       "</style>\n",
       "<table border=\"1\" class=\"dataframe\">\n",
       "  <thead>\n",
       "    <tr style=\"text-align: right;\">\n",
       "      <th></th>\n",
       "      <th>Id</th>\n",
       "      <th>Klasse</th>\n",
       "      <th>Samlet fravær</th>\n",
       "      <th>Fag</th>\n",
       "      <th>Fravær</th>\n",
       "    </tr>\n",
       "  </thead>\n",
       "  <tbody>\n",
       "    <tr>\n",
       "      <th>0</th>\n",
       "      <td>214366</td>\n",
       "      <td>Web and Soft Electives</td>\n",
       "      <td>1.0</td>\n",
       "      <td>Big Data</td>\n",
       "      <td>1.0</td>\n",
       "    </tr>\n",
       "    <tr>\n",
       "      <th>1</th>\n",
       "      <td>680092</td>\n",
       "      <td>Web and Soft Electives</td>\n",
       "      <td>1.0</td>\n",
       "      <td>Angular</td>\n",
       "      <td>1.0</td>\n",
       "    </tr>\n",
       "    <tr>\n",
       "      <th>2</th>\n",
       "      <td>906441</td>\n",
       "      <td>Web and Soft Electives</td>\n",
       "      <td>1.0</td>\n",
       "      <td>Angular</td>\n",
       "      <td>1.0</td>\n",
       "    </tr>\n",
       "    <tr>\n",
       "      <th>3</th>\n",
       "      <td>432875</td>\n",
       "      <td>Web and Soft Electives</td>\n",
       "      <td>1.0</td>\n",
       "      <td>Angular</td>\n",
       "      <td>1.0</td>\n",
       "    </tr>\n",
       "    <tr>\n",
       "      <th>4</th>\n",
       "      <td>146518</td>\n",
       "      <td>Web and Soft Electives</td>\n",
       "      <td>1.0</td>\n",
       "      <td>Angular</td>\n",
       "      <td>1.0</td>\n",
       "    </tr>\n",
       "  </tbody>\n",
       "</table>\n",
       "</div>"
      ],
      "text/plain": [
       "       Id                  Klasse  Samlet fravær       Fag  Fravær\n",
       "0  214366  Web and Soft Electives            1.0  Big Data     1.0\n",
       "1  680092  Web and Soft Electives            1.0   Angular     1.0\n",
       "2  906441  Web and Soft Electives            1.0   Angular     1.0\n",
       "3  432875  Web and Soft Electives            1.0   Angular     1.0\n",
       "4  146518  Web and Soft Electives            1.0   Angular     1.0"
      ]
     },
     "execution_count": 121,
     "metadata": {},
     "output_type": "execute_result"
    }
   ],
   "source": [
    "transform_func = dict(\n",
    "        Fag=attendance.filter(regex=\"^Fag\").columns,\n",
    "        Fravær=attendance.filter(regex=\"^Fravær\").columns\n",
    ")\n",
    "\n",
    "transformed_attendance = pd.lreshape(attendance, transform_func)\n",
    "transformed_attendance.head()"
   ]
  },
  {
   "cell_type": "code",
   "execution_count": 122,
   "metadata": {},
   "outputs": [],
   "source": [
    "distinct_classes = list(set(transformed_attendance[\"Klasse\"]))"
   ]
  },
  {
   "cell_type": "code",
   "execution_count": 123,
   "metadata": {},
   "outputs": [],
   "source": [
    "distinct_subjects = list(set(transformed_attendance[\"Fag\"]))"
   ]
  },
  {
   "cell_type": "code",
   "execution_count": 124,
   "metadata": {},
   "outputs": [],
   "source": [
    "# Try to get the median for attendance\n",
    "attendance_sorted = transformed_attendance.copy()\n",
    "attendance_sorted.sort_values([ \"Fag\", \"Fravær\"], axis=0, ascending=True, inplace=True)\n",
    "# attendance_sorted.head()"
   ]
  },
  {
   "cell_type": "code",
   "execution_count": 125,
   "metadata": {},
   "outputs": [
    {
     "data": {
      "text/plain": [
       "Fag\n",
       "Angular                        0.574304\n",
       "Big Data                       0.484420\n",
       "DLS                            0.562424\n",
       "Data Science                   0.204832\n",
       "Databases                      0.193182\n",
       "IT Governance 2                0.000000\n",
       "Interface Design               0.394638\n",
       "Intro til IT Sikkerhed         0.486950\n",
       "Net. and Com. security         0.543750\n",
       "Quantum Computing              0.166667\n",
       "Reverse Eng. Malware           0.318966\n",
       "Security Engineering           0.419021\n",
       "Security for mobile devices    0.462569\n",
       "Software Design Patterns       0.310786\n",
       "System Integration             0.388889\n",
       "System Security                0.424075\n",
       "Test                           0.283145\n",
       "Web Development                0.130266\n",
       "Web Security                   0.349587\n",
       "Name: Fravær, dtype: float64"
      ]
     },
     "execution_count": 125,
     "metadata": {},
     "output_type": "execute_result"
    }
   ],
   "source": [
    "# attendance_sorted['MinForClass'] = attendance_sorted.groupby(['Fag'])['Fravær'].mean()\n",
    "mean_attendance_per_subject = attendance_sorted.groupby(['Fag'])['Fravær'].mean()\n",
    "mean_attendance_per_subject"
   ]
  },
  {
   "cell_type": "code",
   "execution_count": 126,
   "metadata": {},
   "outputs": [
    {
     "data": {
      "text/plain": [
       "Fravær    19\n",
       "dtype: int64"
      ]
     },
     "execution_count": 126,
     "metadata": {},
     "output_type": "execute_result"
    }
   ],
   "source": [
    "df = DataFrame(mean_attendance_per_subject)\n",
    "df.count()"
   ]
  },
  {
   "cell_type": "code",
   "execution_count": 127,
   "metadata": {},
   "outputs": [
    {
     "data": {
      "image/png": "[encoded data removed]",
      "text/plain": [
       "<Figure size 432x288 with 1 Axes>"
      ]
     },
     "metadata": {
      "needs_background": "light"
     },
     "output_type": "display_data"
    }
   ],
   "source": [
    "x = np.arange(19)\n",
    "fig, ax = plt.subplots()\n",
    "ax.tick_params(labelsize=3)\n",
    "plt.bar(x, df['Fravær'])\n",
    "plt.xticks(x, distinct_subjects)\n",
    "plt.show()\n"
   ]
  },
  {
   "cell_type": "code",
   "execution_count": 128,
   "metadata": {},
   "outputs": [],
   "source": [
    "#transformed_attendance = transformed_attendance.drop(['Fag'], axis=1)\n",
    "#transformed_attendance = transformed_attendance.drop(['Klasse'], axis=1)\n",
    "\n",
    "#transformed_attendance = transformed_attendance.sort_values(\"Id\")\n",
    "\n",
    "#transformed_attendance.head()"
   ]
  },
  {
   "cell_type": "code",
   "execution_count": 129,
   "metadata": {},
   "outputs": [
    {
     "data": {
      "text/html": [
       "<div>\n",
       "<style scoped>\n",
       "    .dataframe tbody tr th:only-of-type {\n",
       "        vertical-align: middle;\n",
       "    }\n",
       "\n",
       "    .dataframe tbody tr th {\n",
       "        vertical-align: top;\n",
       "    }\n",
       "\n",
       "    .dataframe thead th {\n",
       "        text-align: right;\n",
       "    }\n",
       "</style>\n",
       "<table border=\"1\" class=\"dataframe\">\n",
       "  <thead>\n",
       "    <tr style=\"text-align: right;\">\n",
       "      <th></th>\n",
       "      <th>Samlet fravær</th>\n",
       "      <th>Fravær</th>\n",
       "    </tr>\n",
       "  </thead>\n",
       "  <tbody>\n",
       "    <tr>\n",
       "      <th>count</th>\n",
       "      <td>645.000000</td>\n",
       "      <td>645.000000</td>\n",
       "    </tr>\n",
       "    <tr>\n",
       "      <th>mean</th>\n",
       "      <td>0.372572</td>\n",
       "      <td>0.338131</td>\n",
       "    </tr>\n",
       "    <tr>\n",
       "      <th>std</th>\n",
       "      <td>0.306235</td>\n",
       "      <td>0.356557</td>\n",
       "    </tr>\n",
       "    <tr>\n",
       "      <th>min</th>\n",
       "      <td>0.000000</td>\n",
       "      <td>0.000000</td>\n",
       "    </tr>\n",
       "    <tr>\n",
       "      <th>25%</th>\n",
       "      <td>0.106000</td>\n",
       "      <td>0.000000</td>\n",
       "    </tr>\n",
       "    <tr>\n",
       "      <th>50%</th>\n",
       "      <td>0.287000</td>\n",
       "      <td>0.222200</td>\n",
       "    </tr>\n",
       "    <tr>\n",
       "      <th>75%</th>\n",
       "      <td>0.530000</td>\n",
       "      <td>0.575800</td>\n",
       "    </tr>\n",
       "    <tr>\n",
       "      <th>max</th>\n",
       "      <td>1.000000</td>\n",
       "      <td>1.000000</td>\n",
       "    </tr>\n",
       "  </tbody>\n",
       "</table>\n",
       "</div>"
      ],
      "text/plain": [
       "       Samlet fravær      Fravær\n",
       "count     645.000000  645.000000\n",
       "mean        0.372572    0.338131\n",
       "std         0.306235    0.356557\n",
       "min         0.000000    0.000000\n",
       "25%         0.106000    0.000000\n",
       "50%         0.287000    0.222200\n",
       "75%         0.530000    0.575800\n",
       "max         1.000000    1.000000"
      ]
     },
     "execution_count": 129,
     "metadata": {},
     "output_type": "execute_result"
    }
   ],
   "source": [
    "continuous_features = ['Samlet fravær', 'Fravær']\n",
    "\n",
    "transformed_attendance[continuous_features].describe()"
   ]
  },
  {
   "cell_type": "code",
   "execution_count": 130,
   "metadata": {},
   "outputs": [
    {
     "data": {
      "text/html": [
       "<div>\n",
       "<style scoped>\n",
       "    .dataframe tbody tr th:only-of-type {\n",
       "        vertical-align: middle;\n",
       "    }\n",
       "\n",
       "    .dataframe tbody tr th {\n",
       "        vertical-align: top;\n",
       "    }\n",
       "\n",
       "    .dataframe thead th {\n",
       "        text-align: right;\n",
       "    }\n",
       "</style>\n",
       "<table border=\"1\" class=\"dataframe\">\n",
       "  <thead>\n",
       "    <tr style=\"text-align: right;\">\n",
       "      <th></th>\n",
       "      <th>Samlet fravær</th>\n",
       "      <th>Fravær</th>\n",
       "    </tr>\n",
       "  </thead>\n",
       "  <tbody>\n",
       "    <tr>\n",
       "      <th>0</th>\n",
       "      <td>1.0</td>\n",
       "      <td>1.0</td>\n",
       "    </tr>\n",
       "    <tr>\n",
       "      <th>1</th>\n",
       "      <td>1.0</td>\n",
       "      <td>1.0</td>\n",
       "    </tr>\n",
       "    <tr>\n",
       "      <th>2</th>\n",
       "      <td>1.0</td>\n",
       "      <td>1.0</td>\n",
       "    </tr>\n",
       "    <tr>\n",
       "      <th>3</th>\n",
       "      <td>1.0</td>\n",
       "      <td>1.0</td>\n",
       "    </tr>\n",
       "    <tr>\n",
       "      <th>4</th>\n",
       "      <td>1.0</td>\n",
       "      <td>1.0</td>\n",
       "    </tr>\n",
       "  </tbody>\n",
       "</table>\n",
       "</div>"
      ],
      "text/plain": [
       "   Samlet fravær  Fravær\n",
       "0            1.0     1.0\n",
       "1            1.0     1.0\n",
       "2            1.0     1.0\n",
       "3            1.0     1.0\n",
       "4            1.0     1.0"
      ]
     },
     "execution_count": 130,
     "metadata": {},
     "output_type": "execute_result"
    }
   ],
   "source": [
    "total_abscence = transformed_attendance[['Samlet fravær', 'Fravær']]\n",
    "total_abscence.head()"
   ]
  },
  {
   "cell_type": "code",
   "execution_count": 131,
   "metadata": {},
   "outputs": [],
   "source": [
    "# For each k value, we will initialise k-means and use the inertia attribute to identify the sum of squared distances of samples to the nearest cluster centre.\n",
    "\n",
    "Sum_of_squared_distances = []\n",
    "K = range(1,15)\n",
    "for k in K:\n",
    "    km = KMeans(n_clusters=k)\n",
    "    km = km.fit(total_abscence)\n",
    "    Sum_of_squared_distances.append(km.inertia_)\n"
   ]
  },
  {
   "cell_type": "code",
   "execution_count": 132,
   "metadata": {},
   "outputs": [
    {
     "data": {
      "image/png": "[encoded data removed]",
      "text/plain": [
       "<Figure size 432x288 with 1 Axes>"
      ]
     },
     "metadata": {
      "needs_background": "light"
     },
     "output_type": "display_data"
    }
   ],
   "source": [
    "# Below is a plot of sum of squared distances for k in the range specified above. If the plot looks like an arm, then the elbow on the arm is optimal k.\n",
    "# In the plot below, the elbow is at k=3 indicating the optimal k for this dataset is 3\n",
    "\n",
    "\n",
    "plt.plot(K, Sum_of_squared_distances, 'bx-')\n",
    "plt.xlabel('Number of Clusters')\n",
    "plt.ylabel('Sum_of_squared_distances')\n",
    "plt.title('Elbow Method For Optimal Number of Clusters')\n",
    "plt.show()"
   ]
  },
  {
   "cell_type": "code",
   "execution_count": 137,
   "metadata": {},
   "outputs": [
    {
     "name": "stdout",
     "output_type": "stream",
     "text": [
      "[[0.42617617 0.45766269]\n",
      " [0.16421194 0.05841731]\n",
      " [0.88073504 0.94184701]]\n"
     ]
    },
    {
     "data": {
      "text/plain": [
       "<matplotlib.collections.PathCollection at 0x12175f550>"
      ]
     },
     "execution_count": 137,
     "metadata": {},
     "output_type": "execute_result"
    },
    {
     "data": {
      "image/png": "[encoded data removed]",
      "text/plain": [
       "<Figure size 432x288 with 1 Axes>"
      ]
     },
     "metadata": {
      "needs_background": "light"
     },
     "output_type": "display_data"
    }
   ],
   "source": [
    "#df = DataFrame(transformed_attendance,columns=['Samlet fravær','Fravær', 'Id'])\n",
    "kmeans = KMeans(n_clusters=3).fit(total_abscence)\n",
    "centroids = kmeans.cluster_centers_\n",
    "print(centroids)\n",
    "\n",
    "plt.scatter( total_abscence['Samlet fravær'],total_abscence['Fravær'], c= kmeans.labels_, s=50, alpha=0.5)\n",
    "plt.scatter(centroids[:, 0], centroids[:, 1],s=50, c='red')\n"
   ]
  },
  {
   "cell_type": "code",
   "execution_count": null,
   "metadata": {},
   "outputs": [],
   "source": []
  },
  {
   "cell_type": "code",
   "execution_count": null,
   "metadata": {},
   "outputs": [],
   "source": []
  }
 ],
 "metadata": {
  "kernelspec": {
   "display_name": "Python 3",
   "language": "python",
   "name": "python3"
  },
  "language_info": {
   "codemirror_mode": {
    "name": "ipython",
    "version": 3
   },
   "file_extension": ".py",
   "mimetype": "text/x-python",
   "name": "python",
   "nbconvert_exporter": "python",
   "pygments_lexer": "ipython3",
   "version": "3.7.3"
  }
 },
 "nbformat": 4,
 "nbformat_minor": 2
}
