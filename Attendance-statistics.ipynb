{
 "cells": [
  {
   "cell_type": "code",
   "execution_count": 20,
   "metadata": {},
   "outputs": [],
   "source": [
    "import os\n",
    "import tarfile\n",
    "from six.moves import urllib\n",
    "import pandas as pd\n",
    "import numpy as np\n",
    "%matplotlib inline\n",
    "import matplotlib\n",
    "import matplotlib.pyplot as plt\n",
    "from sklearn.preprocessing import MinMaxScaler\n",
    "from sklearn.cluster import KMeans\n",
    "from pandas import DataFrame\n",
    "\n",
    "\n",
    "ATTENDANCE_PATH = os.path.join(\"datasets\", \"attendance\")\n",
    "\n",
    "def load_attendance_data(attendance_path=ATTENDANCE_PATH):\n",
    "    csv_path = os.path.join(attendance_path, \"stud-stat-anonymous.csv\")\n",
    "    return pd.read_csv(csv_path)"
   ]
  },
  {
   "cell_type": "code",
   "execution_count": 21,
   "metadata": {},
   "outputs": [
    {
     "data": {
      "text/html": [
       "<div>\n",
       "<style scoped>\n",
       "    .dataframe tbody tr th:only-of-type {\n",
       "        vertical-align: middle;\n",
       "    }\n",
       "\n",
       "    .dataframe tbody tr th {\n",
       "        vertical-align: top;\n",
       "    }\n",
       "\n",
       "    .dataframe thead th {\n",
       "        text-align: right;\n",
       "    }\n",
       "</style>\n",
       "<table border=\"1\" class=\"dataframe\">\n",
       "  <thead>\n",
       "    <tr style=\"text-align: right;\">\n",
       "      <th></th>\n",
       "      <th>Unnamed: 0</th>\n",
       "      <th>Id</th>\n",
       "      <th>Samlet fravær</th>\n",
       "      <th>Klasse</th>\n",
       "      <th>Fag</th>\n",
       "      <th>Fravær</th>\n",
       "      <th>Fag.1</th>\n",
       "      <th>Fravær.1</th>\n",
       "      <th>Fag.2</th>\n",
       "      <th>Fravær.2</th>\n",
       "      <th>Fag.3</th>\n",
       "      <th>Fravær.3</th>\n",
       "    </tr>\n",
       "  </thead>\n",
       "  <tbody>\n",
       "    <tr>\n",
       "      <th>0</th>\n",
       "      <td>0</td>\n",
       "      <td>214366</td>\n",
       "      <td>100%</td>\n",
       "      <td>Web and Soft Electives</td>\n",
       "      <td>Big Data</td>\n",
       "      <td>100%</td>\n",
       "      <td>NaN</td>\n",
       "      <td>NaN</td>\n",
       "      <td>NaN</td>\n",
       "      <td>NaN</td>\n",
       "      <td>NaN</td>\n",
       "      <td>NaN</td>\n",
       "    </tr>\n",
       "    <tr>\n",
       "      <th>1</th>\n",
       "      <td>1</td>\n",
       "      <td>680092</td>\n",
       "      <td>100%</td>\n",
       "      <td>Web and Soft Electives</td>\n",
       "      <td>Angular</td>\n",
       "      <td>100%</td>\n",
       "      <td>Web Security</td>\n",
       "      <td>100%</td>\n",
       "      <td>NaN</td>\n",
       "      <td>NaN</td>\n",
       "      <td>NaN</td>\n",
       "      <td>NaN</td>\n",
       "    </tr>\n",
       "    <tr>\n",
       "      <th>2</th>\n",
       "      <td>2</td>\n",
       "      <td>906441</td>\n",
       "      <td>100%</td>\n",
       "      <td>Web and Soft Electives</td>\n",
       "      <td>Angular</td>\n",
       "      <td>100%</td>\n",
       "      <td>Web Security</td>\n",
       "      <td>100%</td>\n",
       "      <td>NaN</td>\n",
       "      <td>NaN</td>\n",
       "      <td>NaN</td>\n",
       "      <td>NaN</td>\n",
       "    </tr>\n",
       "    <tr>\n",
       "      <th>3</th>\n",
       "      <td>3</td>\n",
       "      <td>432875</td>\n",
       "      <td>100%</td>\n",
       "      <td>Web and Soft Electives</td>\n",
       "      <td>Angular</td>\n",
       "      <td>100%</td>\n",
       "      <td>Web Security</td>\n",
       "      <td>100%</td>\n",
       "      <td>NaN</td>\n",
       "      <td>NaN</td>\n",
       "      <td>NaN</td>\n",
       "      <td>NaN</td>\n",
       "    </tr>\n",
       "    <tr>\n",
       "      <th>4</th>\n",
       "      <td>4</td>\n",
       "      <td>146518</td>\n",
       "      <td>100%</td>\n",
       "      <td>Web and Soft Electives</td>\n",
       "      <td>Angular</td>\n",
       "      <td>100%</td>\n",
       "      <td>Web Security</td>\n",
       "      <td>100%</td>\n",
       "      <td>NaN</td>\n",
       "      <td>NaN</td>\n",
       "      <td>NaN</td>\n",
       "      <td>NaN</td>\n",
       "    </tr>\n",
       "  </tbody>\n",
       "</table>\n",
       "</div>"
      ],
      "text/plain": [
       "   Unnamed: 0      Id Samlet fravær                  Klasse       Fag Fravær  \\\n",
       "0           0  214366          100%  Web and Soft Electives  Big Data   100%   \n",
       "1           1  680092          100%  Web and Soft Electives   Angular   100%   \n",
       "2           2  906441          100%  Web and Soft Electives   Angular   100%   \n",
       "3           3  432875          100%  Web and Soft Electives   Angular   100%   \n",
       "4           4  146518          100%  Web and Soft Electives   Angular   100%   \n",
       "\n",
       "          Fag.1 Fravær.1 Fag.2 Fravær.2 Fag.3 Fravær.3  \n",
       "0           NaN      NaN   NaN      NaN   NaN      NaN  \n",
       "1  Web Security     100%   NaN      NaN   NaN      NaN  \n",
       "2  Web Security     100%   NaN      NaN   NaN      NaN  \n",
       "3  Web Security     100%   NaN      NaN   NaN      NaN  \n",
       "4  Web Security     100%   NaN      NaN   NaN      NaN  "
      ]
     },
     "execution_count": 21,
     "metadata": {},
     "output_type": "execute_result"
    }
   ],
   "source": [
    "attendance = load_attendance_data()\n",
    "attendance.head()"
   ]
  },
  {
   "cell_type": "code",
   "execution_count": 22,
   "metadata": {
    "scrolled": true
   },
   "outputs": [
    {
     "data": {
      "text/html": [
       "<div>\n",
       "<style scoped>\n",
       "    .dataframe tbody tr th:only-of-type {\n",
       "        vertical-align: middle;\n",
       "    }\n",
       "\n",
       "    .dataframe tbody tr th {\n",
       "        vertical-align: top;\n",
       "    }\n",
       "\n",
       "    .dataframe thead th {\n",
       "        text-align: right;\n",
       "    }\n",
       "</style>\n",
       "<table border=\"1\" class=\"dataframe\">\n",
       "  <thead>\n",
       "    <tr style=\"text-align: right;\">\n",
       "      <th></th>\n",
       "      <th>Id</th>\n",
       "      <th>Samlet fravær</th>\n",
       "      <th>Klasse</th>\n",
       "      <th>Fag</th>\n",
       "      <th>Fravær</th>\n",
       "      <th>Fag.1</th>\n",
       "      <th>Fravær.1</th>\n",
       "      <th>Fag.2</th>\n",
       "      <th>Fravær.2</th>\n",
       "      <th>Fag.3</th>\n",
       "      <th>Fravær.3</th>\n",
       "    </tr>\n",
       "  </thead>\n",
       "  <tbody>\n",
       "    <tr>\n",
       "      <th>0</th>\n",
       "      <td>214366</td>\n",
       "      <td>100%</td>\n",
       "      <td>Web and Soft Electives</td>\n",
       "      <td>Big Data</td>\n",
       "      <td>100%</td>\n",
       "      <td>NaN</td>\n",
       "      <td>NaN</td>\n",
       "      <td>NaN</td>\n",
       "      <td>NaN</td>\n",
       "      <td>NaN</td>\n",
       "      <td>NaN</td>\n",
       "    </tr>\n",
       "    <tr>\n",
       "      <th>1</th>\n",
       "      <td>680092</td>\n",
       "      <td>100%</td>\n",
       "      <td>Web and Soft Electives</td>\n",
       "      <td>Angular</td>\n",
       "      <td>100%</td>\n",
       "      <td>Web Security</td>\n",
       "      <td>100%</td>\n",
       "      <td>NaN</td>\n",
       "      <td>NaN</td>\n",
       "      <td>NaN</td>\n",
       "      <td>NaN</td>\n",
       "    </tr>\n",
       "    <tr>\n",
       "      <th>2</th>\n",
       "      <td>906441</td>\n",
       "      <td>100%</td>\n",
       "      <td>Web and Soft Electives</td>\n",
       "      <td>Angular</td>\n",
       "      <td>100%</td>\n",
       "      <td>Web Security</td>\n",
       "      <td>100%</td>\n",
       "      <td>NaN</td>\n",
       "      <td>NaN</td>\n",
       "      <td>NaN</td>\n",
       "      <td>NaN</td>\n",
       "    </tr>\n",
       "    <tr>\n",
       "      <th>3</th>\n",
       "      <td>432875</td>\n",
       "      <td>100%</td>\n",
       "      <td>Web and Soft Electives</td>\n",
       "      <td>Angular</td>\n",
       "      <td>100%</td>\n",
       "      <td>Web Security</td>\n",
       "      <td>100%</td>\n",
       "      <td>NaN</td>\n",
       "      <td>NaN</td>\n",
       "      <td>NaN</td>\n",
       "      <td>NaN</td>\n",
       "    </tr>\n",
       "    <tr>\n",
       "      <th>4</th>\n",
       "      <td>146518</td>\n",
       "      <td>100%</td>\n",
       "      <td>Web and Soft Electives</td>\n",
       "      <td>Angular</td>\n",
       "      <td>100%</td>\n",
       "      <td>Web Security</td>\n",
       "      <td>100%</td>\n",
       "      <td>NaN</td>\n",
       "      <td>NaN</td>\n",
       "      <td>NaN</td>\n",
       "      <td>NaN</td>\n",
       "    </tr>\n",
       "  </tbody>\n",
       "</table>\n",
       "</div>"
      ],
      "text/plain": [
       "       Id Samlet fravær                  Klasse       Fag Fravær  \\\n",
       "0  214366          100%  Web and Soft Electives  Big Data   100%   \n",
       "1  680092          100%  Web and Soft Electives   Angular   100%   \n",
       "2  906441          100%  Web and Soft Electives   Angular   100%   \n",
       "3  432875          100%  Web and Soft Electives   Angular   100%   \n",
       "4  146518          100%  Web and Soft Electives   Angular   100%   \n",
       "\n",
       "          Fag.1 Fravær.1 Fag.2 Fravær.2 Fag.3 Fravær.3  \n",
       "0           NaN      NaN   NaN      NaN   NaN      NaN  \n",
       "1  Web Security     100%   NaN      NaN   NaN      NaN  \n",
       "2  Web Security     100%   NaN      NaN   NaN      NaN  \n",
       "3  Web Security     100%   NaN      NaN   NaN      NaN  \n",
       "4  Web Security     100%   NaN      NaN   NaN      NaN  "
      ]
     },
     "execution_count": 22,
     "metadata": {},
     "output_type": "execute_result"
    }
   ],
   "source": [
    "attendance = attendance.drop(['Unnamed: 0'], axis=1)\n",
    "attendance.head()"
   ]
  },
  {
   "cell_type": "code",
   "execution_count": 23,
   "metadata": {},
   "outputs": [
    {
     "data": {
      "text/html": [
       "<div>\n",
       "<style scoped>\n",
       "    .dataframe tbody tr th:only-of-type {\n",
       "        vertical-align: middle;\n",
       "    }\n",
       "\n",
       "    .dataframe tbody tr th {\n",
       "        vertical-align: top;\n",
       "    }\n",
       "\n",
       "    .dataframe thead th {\n",
       "        text-align: right;\n",
       "    }\n",
       "</style>\n",
       "<table border=\"1\" class=\"dataframe\">\n",
       "  <thead>\n",
       "    <tr style=\"text-align: right;\">\n",
       "      <th></th>\n",
       "      <th>Id</th>\n",
       "      <th>Samlet fravær</th>\n",
       "      <th>Fravær</th>\n",
       "    </tr>\n",
       "  </thead>\n",
       "  <tbody>\n",
       "    <tr>\n",
       "      <th>53</th>\n",
       "      <td>104328</td>\n",
       "      <td>57.5</td>\n",
       "      <td>55.56</td>\n",
       "    </tr>\n",
       "    <tr>\n",
       "      <th>276</th>\n",
       "      <td>104328</td>\n",
       "      <td>57.5</td>\n",
       "      <td>87.5</td>\n",
       "    </tr>\n",
       "    <tr>\n",
       "      <th>480</th>\n",
       "      <td>104328</td>\n",
       "      <td>57.5</td>\n",
       "      <td>33.33</td>\n",
       "    </tr>\n",
       "    <tr>\n",
       "      <th>249</th>\n",
       "      <td>105304</td>\n",
       "      <td>90.9</td>\n",
       "      <td>100</td>\n",
       "    </tr>\n",
       "    <tr>\n",
       "      <th>26</th>\n",
       "      <td>105304</td>\n",
       "      <td>90.9</td>\n",
       "      <td>80</td>\n",
       "    </tr>\n",
       "  </tbody>\n",
       "</table>\n",
       "</div>"
      ],
      "text/plain": [
       "         Id Samlet fravær Fravær\n",
       "53   104328          57.5  55.56\n",
       "276  104328          57.5   87.5\n",
       "480  104328          57.5  33.33\n",
       "249  105304          90.9    100\n",
       "26   105304          90.9     80"
      ]
     },
     "execution_count": 23,
     "metadata": {},
     "output_type": "execute_result"
    }
   ],
   "source": [
    "transform_func = dict(\n",
    "        Fag=attendance.filter(regex=\"^Fag\").columns,\n",
    "        Fravær=attendance.filter(regex=\"^Fravær\").columns\n",
    ")\n",
    "\n",
    "transformed_attendance = pd.lreshape(attendance, transform_func)\n",
    "transformed_attendance = transformed_attendance[transformed_attendance[\"Samlet fravær\"].str.strip(\"%\").astype(\"float\") > 35]\n",
    "transformed_attendance[\"Samlet fravær\"] = [x.strip('%') for x in transformed_attendance[\"Samlet fravær\"]]\n",
    "transformed_attendance[\"Fravær\"] = [x.strip('%') for x in transformed_attendance[\"Fravær\"]]\n",
    "\n",
    "distinct_classes = list(set(transformed_attendance[\"Klasse\"]))\n",
    "\n",
    "\n",
    "transformed_attendance = transformed_attendance.drop(['Fag'], axis=1)\n",
    "transformed_attendance = transformed_attendance.drop(['Klasse'], axis=1)\n",
    "\n",
    "transformed_attendance = transformed_attendance.sort_values(\"Id\")\n",
    "\n",
    "transformed_attendance.head()"
   ]
  },
  {
   "cell_type": "code",
   "execution_count": 24,
   "metadata": {},
   "outputs": [
    {
     "data": {
      "text/plain": [
       "['SD19w1', 'Web19w1', 'ITS18a', 'SD18i', 'Web and Soft Electives', 'ITS19w1']"
      ]
     },
     "execution_count": 24,
     "metadata": {},
     "output_type": "execute_result"
    }
   ],
   "source": [
    "distinct_classes"
   ]
  },
  {
   "cell_type": "code",
   "execution_count": 25,
   "metadata": {},
   "outputs": [
    {
     "data": {
      "text/html": [
       "<div>\n",
       "<style scoped>\n",
       "    .dataframe tbody tr th:only-of-type {\n",
       "        vertical-align: middle;\n",
       "    }\n",
       "\n",
       "    .dataframe tbody tr th {\n",
       "        vertical-align: top;\n",
       "    }\n",
       "\n",
       "    .dataframe thead th {\n",
       "        text-align: right;\n",
       "    }\n",
       "</style>\n",
       "<table border=\"1\" class=\"dataframe\">\n",
       "  <thead>\n",
       "    <tr style=\"text-align: right;\">\n",
       "      <th></th>\n",
       "      <th>Samlet fravær</th>\n",
       "      <th>Fravær</th>\n",
       "    </tr>\n",
       "  </thead>\n",
       "  <tbody>\n",
       "    <tr>\n",
       "      <th>count</th>\n",
       "      <td>291</td>\n",
       "      <td>291</td>\n",
       "    </tr>\n",
       "    <tr>\n",
       "      <th>unique</th>\n",
       "      <td>53</td>\n",
       "      <td>69</td>\n",
       "    </tr>\n",
       "    <tr>\n",
       "      <th>top</th>\n",
       "      <td>100</td>\n",
       "      <td>100</td>\n",
       "    </tr>\n",
       "    <tr>\n",
       "      <th>freq</th>\n",
       "      <td>53</td>\n",
       "      <td>86</td>\n",
       "    </tr>\n",
       "  </tbody>\n",
       "</table>\n",
       "</div>"
      ],
      "text/plain": [
       "       Samlet fravær Fravær\n",
       "count            291    291\n",
       "unique            53     69\n",
       "top              100    100\n",
       "freq              53     86"
      ]
     },
     "execution_count": 25,
     "metadata": {},
     "output_type": "execute_result"
    }
   ],
   "source": [
    "continuous_features = ['Samlet fravær', 'Fravær']\n",
    "\n",
    "transformed_attendance[continuous_features].describe()\n"
   ]
  },
  {
   "cell_type": "code",
   "execution_count": 26,
   "metadata": {},
   "outputs": [
    {
     "name": "stderr",
     "output_type": "stream",
     "text": [
      "/usr/local/lib/python3.7/site-packages/sklearn/preprocessing/data.py:334: DataConversionWarning: Data with input dtype int64, object were all converted to float64 by MinMaxScaler.\n",
      "  return self.partial_fit(X, y)\n"
     ]
    }
   ],
   "source": [
    "mms = MinMaxScaler()\n",
    "mms.fit(transformed_attendance)\n",
    "data_transformed = mms.transform(transformed_attendance)"
   ]
  },
  {
   "cell_type": "code",
   "execution_count": 27,
   "metadata": {},
   "outputs": [],
   "source": [
    "# For each k value, we will initialise k-means and use the inertia attribute to identify the sum of squared distances of samples to the nearest cluster centre.\n",
    "\n",
    "Sum_of_squared_distances = []\n",
    "K = range(1,15)\n",
    "for k in K:\n",
    "    km = KMeans(n_clusters=k)\n",
    "    km = km.fit(transformed_attendance)\n",
    "    Sum_of_squared_distances.append(km.inertia_)\n"
   ]
  },
  {
   "cell_type": "code",
   "execution_count": 28,
   "metadata": {},
   "outputs": [
    {
     "data": {
      "text/plain": [
       "[17725762980875.867,\n",
       " 4378033429759.323,\n",
       " 1846934778691.2666,\n",
       " 1087997136194.2192,\n",
       " 659502769199.778,\n",
       " 455872679357.26526,\n",
       " 336778014534.7201,\n",
       " 269423228478.22394,\n",
       " 205778165652.1394,\n",
       " 158961444244.0938,\n",
       " 136562390076.42944,\n",
       " 110975068910.01266,\n",
       " 89239860483.95969,\n",
       " 68616613482.338486]"
      ]
     },
     "execution_count": 28,
     "metadata": {},
     "output_type": "execute_result"
    }
   ],
   "source": [
    "Sum_of_squared_distances"
   ]
  },
  {
   "cell_type": "code",
   "execution_count": 29,
   "metadata": {},
   "outputs": [
    {
     "data": {
      "image/png": "[encoded data removed]",
      "text/plain": [
       "<Figure size 432x288 with 1 Axes>"
      ]
     },
     "metadata": {
      "needs_background": "light"
     },
     "output_type": "display_data"
    }
   ],
   "source": [
    "# Below is a plot of sum of squared distances for k in the range specified above. If the plot looks like an arm, then the elbow on the arm is optimal k.\n",
    "# In the plot below, the elbow is at k=3 indicating the optimal k for this dataset is 3\n",
    "\n",
    "\n",
    "plt.plot(K, Sum_of_squared_distances, 'bx-')\n",
    "plt.xlabel('k')\n",
    "plt.ylabel('Sum_of_squared_distances')\n",
    "plt.title('Elbow Method For Optimal k')\n",
    "plt.show()"
   ]
  },
  {
   "cell_type": "code",
   "execution_count": 44,
   "metadata": {},
   "outputs": [
    {
     "name": "stdout",
     "output_type": "stream",
     "text": [
      "[[54.52376238 63.78891089]\n",
      " [48.44       15.61263158]\n",
      " [93.06736842 97.69010526]]\n"
     ]
    },
    {
     "data": {
      "text/plain": [
       "<matplotlib.collections.PathCollection at 0x127ff9eb8>"
      ]
     },
     "execution_count": 44,
     "metadata": {},
     "output_type": "execute_result"
    },
    {
     "data": {
      "image/png": "[encoded data removed]",
      "text/plain": [
       "<Figure size 432x288 with 1 Axes>"
      ]
     },
     "metadata": {
      "needs_background": "light"
     },
     "output_type": "display_data"
    }
   ],
   "source": [
    "df = DataFrame(transformed_attendance,columns=['Samlet fravær','Fravær'])\n",
    "kmeans = KMeans(n_clusters=3).fit(df)\n",
    "centroids = kmeans.cluster_centers_\n",
    "print(centroids)\n",
    "\n",
    "plt.scatter(df['Samlet fravær'], df['Fravær'], c= kmeans.labels_.astype(float), s=50, alpha=0.5)\n",
    "plt.scatter(centroids[:, 1], centroids[:, 1], c='red', s=50)\n"
   ]
  },
  {
   "cell_type": "code",
   "execution_count": null,
   "metadata": {},
   "outputs": [],
   "source": []
  },
  {
   "cell_type": "code",
   "execution_count": null,
   "metadata": {},
   "outputs": [],
   "source": []
  }
 ],
 "metadata": {
  "kernelspec": {
   "display_name": "Python 3",
   "language": "python",
   "name": "python3"
  },
  "language_info": {
   "codemirror_mode": {
    "name": "ipython",
    "version": 3
   },
   "file_extension": ".py",
   "mimetype": "text/x-python",
   "name": "python",
   "nbconvert_exporter": "python",
   "pygments_lexer": "ipython3",
   "version": "3.7.2"
  }
 },
 "nbformat": 4,
 "nbformat_minor": 2
}
